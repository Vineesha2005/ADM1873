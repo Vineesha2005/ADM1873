{
  "nbformat": 4,
  "nbformat_minor": 0,
  "metadata": {
    "colab": {
      "provenance": [],
      "authorship_tag": "ABX9TyPyfJ9EFLXwDCcvNfkQtrXD",
      "include_colab_link": true
    },
    "kernelspec": {
      "name": "python3",
      "display_name": "Python 3"
    },
    "language_info": {
      "name": "python"
    }
  },
  "cells": [
    {
      "cell_type": "markdown",
      "metadata": {
        "id": "view-in-github",
        "colab_type": "text"
      },
      "source": [
        "<a href=\"https://colab.research.google.com/github/Vineesha2005/ADM1873/blob/main/ADM%20Assignment-1.ipynb\" target=\"_parent\"><img src=\"https://colab.research.google.com/assets/colab-badge.svg\" alt=\"Open In Colab\"/></a>"
      ]
    },
    {
      "cell_type": "markdown",
      "source": [
        "Load a dataset using pandas\n"
      ],
      "metadata": {
        "id": "6zCwy5CbfVYL"
      }
    },
    {
      "cell_type": "code",
      "source": [
        "import pandas as pd\n",
        "\n",
        "df = pd.read_csv(\"/content/diadetes.csv.zip\")\n",
        "\n",
        "print(df)"
      ],
      "metadata": {
        "colab": {
          "base_uri": "https://localhost:8080/"
        },
        "id": "kyroFYDogAgk",
        "outputId": "50171fda-3e9e-48c8-ee2f-3e8f62590536"
      },
      "execution_count": 5,
      "outputs": [
        {
          "output_type": "stream",
          "name": "stdout",
          "text": [
            "     Pregnancies  Glucose  BloodPressure  SkinThickness  Insulin   BMI  \\\n",
            "0              6      148             72             35        0  33.6   \n",
            "1              1       85             66             29        0  26.6   \n",
            "2              8      183             64              0        0  23.3   \n",
            "3              1       89             66             23       94  28.1   \n",
            "4              0      137             40             35      168  43.1   \n",
            "..           ...      ...            ...            ...      ...   ...   \n",
            "763           10      101             76             48      180  32.9   \n",
            "764            2      122             70             27        0  36.8   \n",
            "765            5      121             72             23      112  26.2   \n",
            "766            1      126             60              0        0  30.1   \n",
            "767            1       93             70             31        0  30.4   \n",
            "\n",
            "     DiabetesPedigreeFunction  Age  Outcome  \n",
            "0                       0.627   50        1  \n",
            "1                       0.351   31        0  \n",
            "2                       0.672   32        1  \n",
            "3                       0.167   21        0  \n",
            "4                       2.288   33        1  \n",
            "..                        ...  ...      ...  \n",
            "763                     0.171   63        0  \n",
            "764                     0.340   27        0  \n",
            "765                     0.245   30        0  \n",
            "766                     0.349   47        1  \n",
            "767                     0.315   23        0  \n",
            "\n",
            "[768 rows x 9 columns]\n"
          ]
        }
      ]
    },
    {
      "cell_type": "markdown",
      "source": [
        " Handle missing values (mean, median, or mode imputation).\n"
      ],
      "metadata": {
        "id": "OSBgym8GhUva"
      }
    },
    {
      "cell_type": "code",
      "source": [
        "\n",
        "columns_to_impute = [\"Glucose\", \"BloodPressure\", \"SkinThickness\", \"Insulin\", \"BMI\"]\n",
        "for col in columns_to_impute:\n",
        "    df[col] = df[col].replace(0, df[col].mean())\n",
        "print(df)"
      ],
      "metadata": {
        "colab": {
          "base_uri": "https://localhost:8080/"
        },
        "id": "esAUrbtShYck",
        "outputId": "1cb85209-f59e-4dcd-88d8-c6982187f4da"
      },
      "execution_count": 6,
      "outputs": [
        {
          "output_type": "stream",
          "name": "stdout",
          "text": [
            "     Pregnancies  Glucose  BloodPressure  SkinThickness     Insulin   BMI  \\\n",
            "0              6    148.0           72.0      35.000000   79.799479  33.6   \n",
            "1              1     85.0           66.0      29.000000   79.799479  26.6   \n",
            "2              8    183.0           64.0      20.536458   79.799479  23.3   \n",
            "3              1     89.0           66.0      23.000000   94.000000  28.1   \n",
            "4              0    137.0           40.0      35.000000  168.000000  43.1   \n",
            "..           ...      ...            ...            ...         ...   ...   \n",
            "763           10    101.0           76.0      48.000000  180.000000  32.9   \n",
            "764            2    122.0           70.0      27.000000   79.799479  36.8   \n",
            "765            5    121.0           72.0      23.000000  112.000000  26.2   \n",
            "766            1    126.0           60.0      20.536458   79.799479  30.1   \n",
            "767            1     93.0           70.0      31.000000   79.799479  30.4   \n",
            "\n",
            "     DiabetesPedigreeFunction  Age  Outcome  \n",
            "0                       0.627   50        1  \n",
            "1                       0.351   31        0  \n",
            "2                       0.672   32        1  \n",
            "3                       0.167   21        0  \n",
            "4                       2.288   33        1  \n",
            "..                        ...  ...      ...  \n",
            "763                     0.171   63        0  \n",
            "764                     0.340   27        0  \n",
            "765                     0.245   30        0  \n",
            "766                     0.349   47        1  \n",
            "767                     0.315   23        0  \n",
            "\n",
            "[768 rows x 9 columns]\n"
          ]
        }
      ]
    },
    {
      "cell_type": "markdown",
      "source": [
        "Perform feature scaling (min-max normalization or standardization)"
      ],
      "metadata": {
        "id": "0F4CXIHchn4-"
      }
    },
    {
      "cell_type": "code",
      "source": [
        "from sklearn.preprocessing import MinMaxScaler\n",
        "scaler = MinMaxScaler()\n",
        "scaled_features = scaler.fit_transform(df.drop(columns=[\"Outcome\"]))\n",
        "df_scaled = pd.DataFrame(scaled_features, columns=df.columns[:-1])\n",
        "df_scaled[\"Outcome\"] = df[\"Outcome\"]\n",
        "print(df)"
      ],
      "metadata": {
        "colab": {
          "base_uri": "https://localhost:8080/"
        },
        "id": "Zdl4Xwsnk2Uj",
        "outputId": "9b1e4df5-10a9-4b82-a9df-664e3d03d92c"
      },
      "execution_count": 8,
      "outputs": [
        {
          "output_type": "stream",
          "name": "stdout",
          "text": [
            "     Pregnancies  Glucose  BloodPressure  SkinThickness     Insulin   BMI  \\\n",
            "0              6    148.0           72.0      35.000000   79.799479  33.6   \n",
            "1              1     85.0           66.0      29.000000   79.799479  26.6   \n",
            "2              8    183.0           64.0      20.536458   79.799479  23.3   \n",
            "3              1     89.0           66.0      23.000000   94.000000  28.1   \n",
            "4              0    137.0           40.0      35.000000  168.000000  43.1   \n",
            "..           ...      ...            ...            ...         ...   ...   \n",
            "763           10    101.0           76.0      48.000000  180.000000  32.9   \n",
            "764            2    122.0           70.0      27.000000   79.799479  36.8   \n",
            "765            5    121.0           72.0      23.000000  112.000000  26.2   \n",
            "766            1    126.0           60.0      20.536458   79.799479  30.1   \n",
            "767            1     93.0           70.0      31.000000   79.799479  30.4   \n",
            "\n",
            "     DiabetesPedigreeFunction  Age  Outcome  \n",
            "0                       0.627   50        1  \n",
            "1                       0.351   31        0  \n",
            "2                       0.672   32        1  \n",
            "3                       0.167   21        0  \n",
            "4                       2.288   33        1  \n",
            "..                        ...  ...      ...  \n",
            "763                     0.171   63        0  \n",
            "764                     0.340   27        0  \n",
            "765                     0.245   30        0  \n",
            "766                     0.349   47        1  \n",
            "767                     0.315   23        0  \n",
            "\n",
            "[768 rows x 9 columns]\n"
          ]
        }
      ]
    }
  ]
}